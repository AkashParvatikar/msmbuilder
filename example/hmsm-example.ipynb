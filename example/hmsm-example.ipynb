{
 "metadata": {
  "name": ""
 },
 "nbformat": 3,
 "nbformat_minor": 0,
 "worksheets": [
  {
   "cells": [
    {
     "cell_type": "code",
     "collapsed": false,
     "input": [
      "# Let's do all our work in a temporary directory\n",
      "import os\n",
      "import tempfile\n",
      "TEMPDIR = tempfile.mkdtemp()\n",
      "os.chdir(TEMPDIR)"
     ],
     "language": "python",
     "metadata": {},
     "outputs": [],
     "prompt_number": 1
    },
    {
     "cell_type": "code",
     "collapsed": false,
     "input": [
      "!hmsm -h"
     ],
     "language": "python",
     "metadata": {},
     "outputs": [
      {
       "output_type": "stream",
       "stream": "stdout",
       "text": [
        "usage: hmsm [-h]  ...\r\n",
        "\r\n",
        "Hidden Markov Models of Biomolecular Dynamics\r\n",
        "\r\n",
        "optional arguments:\r\n",
        "  -h, --help       show this help message and exit\r\n",
        "\r\n",
        "commands:\r\n",
        "  \r\n",
        "    atomindices    Create index file for atoms or distance pairs.\r\n",
        "    dihedralindices\r\n",
        "                   Create index file for dihedral angles.\r\n",
        "    fit-ghmm       Fit L1-Regularized Reversible Gaussian hidden Markov models with EM.\r\n",
        "    fit-vmhmm      Fit von-Mises hidden Markov models with EM.\r\n",
        "    inspect        Inspect the content of a '.jsonlines' output file\r\n",
        "    sample-ghmm    Draw iid samples from each state in a Gaussian HMM.\r\n",
        "    means-ghmm     Draw samples at the center of each state in a Gaussian HMM.\r\n"
       ]
      },
      {
       "output_type": "stream",
       "stream": "stdout",
       "text": [
        "usage: hmsm atomindices [-h] -o OUT -p PDB (-d | -a) (--minimal | --heavy | --alpha | --all)\r\n",
        "\r\n",
        "Create index file for atoms or distance pairs.\r\n",
        "\r\n",
        "optional arguments:\r\n",
        "  -h, --help            show this help message and exit\r\n",
        "  -o OUT, --out OUT     Path to output file\r\n",
        "  -p PDB, --pdb PDB     Path to PDB file\r\n",
        "\r\n",
        "  Mode: Choose One\r\n",
        "\r\n",
        "  -d, --distance-pairs  Create a 2-dimensional index file with (N choose 2) rows and 2 columns, where each row specifies a pair of indices. All (N choose\r\n",
        "                        2) pairs of the selected atoms will be written.\r\n",
        "  -a, --atoms           Create a 1-dimensional index file containing the indices of the selected atoms.\r\n",
        "\r\n",
        "  Selection Criteria: Choose One\r\n",
        "\r\n",
        "  --minimal             Keep the atoms in protein residues with names CA, CB, C, N, O, (recommended).\r\n",
        "  --heavy               All non-hydrogen atoms that are not symmetry equivalent. By symmetry equivalent, we mean atoms identical under an exchange of\r\n",
        "                        labels. For example, heavy will exclude the two pairs of equivalent carbons (CD, CE) in a PHE ring.\r\n",
        "  --alpha               Only alpha carbons.\r\n",
        "  --all                 Selection includes every atom.\r\n"
       ]
      }
     ],
     "prompt_number": 8
    },
    {
     "cell_type": "code",
     "collapsed": false,
     "input": [
      "!hmsm atomindices -h\n",
      "!hmsm atomindices --atoms -p ~/local/msmbuilder/Tutorial/native.pdb --heavy -o AtomIndices.dat\n",
      "!hmsm dihedralindices --phi --psi --chi1 -p ~/local/msmbuilder/Tutorial/native.pdb -o DihedralIndices.dat"
     ],
     "language": "python",
     "metadata": {},
     "outputs": [
      {
       "output_type": "stream",
       "stream": "stdout",
       "text": [
        "usage: hmsm atomindices [-h] -o OUT -p PDB (-d | -a) (--minimal | --heavy | --alpha | --all)\r\n",
        "\r\n",
        "Create index file for atoms or distance pairs.\r\n",
        "\r\n",
        "optional arguments:\r\n",
        "  -h, --help            show this help message and exit\r\n",
        "  -o OUT, --out OUT     Path to output file\r\n",
        "  -p PDB, --pdb PDB     Path to PDB file\r\n",
        "\r\n",
        "  Mode: Choose One\r\n",
        "\r\n",
        "  -d, --distance-pairs  Create a 2-dimensional index file with (N choose 2) rows and 2 columns, where each row specifies a pair of indices. All (N choose\r\n",
        "                        2) pairs of the selected atoms will be written.\r\n",
        "  -a, --atoms           Create a 1-dimensional index file containing the indices of the selected atoms.\r\n",
        "\r\n",
        "  Selection Criteria: Choose One\r\n",
        "\r\n",
        "  --minimal             Keep the atoms in protein residues with names CA, CB, C, N, O, (recommended).\r\n",
        "  --heavy               All non-hydrogen atoms that are not symmetry equivalent. By symmetry equivalent, we mean atoms identical under an exchange of\r\n",
        "                        labels. For example, heavy will exclude the two pairs of equivalent carbons (CD, CE) in a PHE ring.\r\n",
        "  --alpha               Only alpha carbons.\r\n",
        "  --all                 Selection includes every atom.\r\n"
       ]
      },
      {
       "output_type": "stream",
       "stream": "stdout",
       "text": [
        "IOError: file exists: AtomIndices.dat\r\n"
       ]
      },
      {
       "output_type": "stream",
       "stream": "stdout",
       "text": [
        "Loaded pdb containing (1) chains, (3) residues, (22) atoms.\r\n",
        "Selected (2) dihedrals from (1) unique residues.\r\n"
       ]
      }
     ],
     "prompt_number": 22
    },
    {
     "cell_type": "code",
     "collapsed": false,
     "input": [
      "!hmsm fit-ghmm -h\n",
      "!hmsm fit-ghmm -k 4 5 10 -l 1 2 3 --platform cpu --dir '~/local/msmbuilder/Tutorial/XTC/RUN*/' \\\n",
      "      --ext xtc -a AtomIndices.dat --top ~/local/msmbuilder/Tutorial/native.pdb --reversible-type transpose"
     ],
     "language": "python",
     "metadata": {},
     "outputs": [
      {
       "output_type": "stream",
       "stream": "stdout",
       "text": [
        "usage: hmsm fit-ghmm [-h] [--n-cv N_CV] [-k N_STATES [N_STATES ...]] [-l LAG_TIMES [LAG_TIMES ...]] [--platform {cuda,cpu,sklearn}]\r\n",
        "                     [--fusion-prior FUSION_PRIOR] [--n-em-iter N_EM_ITER] [--thresh THRESH] [--n-lqa-iter N_LQA_ITER] [--reversible-type {mle,transpose}]\r\n",
        "                     [-sp SPLIT] --dir DIR [--top TOP] --ext {xtc,dcd,mdcrd,netcdf,nc,trr,h5,hdf5,pdb,xml,binpos,crd,arc,lh5}\r\n",
        "                     (-d DISTANCE_PAIRS | -a ATOM_INDICES) [-o OUT]\r\n",
        "\r\n",
        "Fit L1-Regularized Reversible Gaussian hidden Markov models with EM.\r\n",
        "\r\n",
        "optional arguments:\r\n",
        "  -h, --help            show this help message and exit\r\n",
        "\r\n",
        "Cross Validation:\r\n",
        "  --n-cv N_CV           Run N-fold cross validation. default=1\r\n",
        "\r\n",
        "HMM Options:\r\n",
        "  -k N_STATES [N_STATES ...], --n-states N_STATES [N_STATES ...]\r\n",
        "                        Number of states in the models. Default = [2,]\r\n",
        "  -l LAG_TIMES [LAG_TIMES ...], --lag-times LAG_TIMES [LAG_TIMES ...]\r\n",
        "                        Lag time(s) of the model(s). Default = [1,]\r\n",
        "  --platform {cuda,cpu,sklearn}\r\n",
        "                        Implementation platform. default=\"cpu\"\r\n",
        "  --fusion-prior FUSION_PRIOR\r\n",
        "                        Strength of the adaptive fusion prior. default=1e-2\r\n",
        "  --n-em-iter N_EM_ITER\r\n",
        "                        Maximum number of iterations of EM. default=100\r\n",
        "  --thresh THRESH       Convergence criterion for EM. Quit when the log likelihood decreases by less than this threshold. default=1e-2\r\n",
        "  --n-lqa-iter N_LQA_ITER\r\n",
        "                        Max number of iterations for local quadradric approximation solving the fusion-L1. default=10\r\n",
        "  --reversible-type {mle,transpose}\r\n",
        "                        Method by which the model is constrained to be reversible. default=\"mle\"\r\n",
        "  -sp SPLIT, --split SPLIT\r\n",
        "                        Split trajectories into smaller chunks. This looses some counts (i.e. like 1% of the counts are lost with --split 100), but can\r\n",
        "                        help with speed (on gpu + multicore cpu) and numerical instabilities that come when trajectories get extremely long.\r\n",
        "\r\n",
        "MDTraj Options:\r\n",
        "  --dir DIR             Directory containing the trajectories to load\r\n",
        "  --top TOP             Topology file for loading trajectories\r\n",
        "  --ext {xtc,dcd,mdcrd,netcdf,nc,trr,h5,hdf5,pdb,xml,binpos,crd,arc,lh5}\r\n",
        "                        File extension of the trajectories\r\n",
        "\r\n",
        "Munging Options:\r\n",
        "  -d DISTANCE_PAIRS, --distance-pairs DISTANCE_PAIRS\r\n",
        "                        Vectorize the MD trajectories by extracting timeseries of the distance between pairs of atoms in each frame. Supply a text file\r\n",
        "                        where each row contains the space-separate indices of two atoms which form a pair to monitor\r\n",
        "  -a ATOM_INDICES, --atom-indices ATOM_INDICES\r\n",
        "                        Superpose each MD conformation on the coordinates in the topology file, and then use the distance from each atom in the reference\r\n",
        "                        conformation to the corresponding atom in each MD conformation.\r\n",
        "\r\n",
        "Output:\r\n",
        "  -o OUT, --out OUT     Output file. default=\"hmms.jsonlines\"\r\n"
       ]
      },
      {
       "output_type": "stream",
       "stream": "stdout",
       "text": [
        "MDTraj/rmsd/src/theobald_rmsd.c UNCONVEGED ROTATION MATRIX. RETURNING IDENTITY=288\r\n"
       ]
      },
      {
       "output_type": "stream",
       "stream": "stdout",
       "text": [
        "MDTraj/rmsd/src/theobald_rmsd.c UNCONVEGED ROTATION MATRIX. RETURNING IDENTITY=288\r\n",
        "MDTraj/rmsd/src/theobald_rmsd.c UNCONVEGED ROTATION MATRIX. RETURNING IDENTITY=288\r\n",
        "MDTraj/rmsd/src/theobald_rmsd.c UNCONVEGED ROTATION MATRIX. RETURNING IDENTITY=288\r\n"
       ]
      },
      {
       "output_type": "stream",
       "stream": "stdout",
       "text": [
        "Loading data into memory + vectorization: 0.543486 s\r\n",
        "Fitting with 100 timeseries from 100 trajectories with 50100 total observations\r\n",
        "{'fusion_prior': 0.01, 'n_states': 4, 'platform': 'cpu', 'reversible_type': 'transpose', 'thresh': 0.01, 'n_em_iter': 100, 'n_lqa_iter': 10, 'n_features': 10}\r\n"
       ]
      },
      {
       "output_type": "stream",
       "stream": "stdout",
       "text": [
        "{'fusion_prior': 0.01, 'n_states': 5, 'platform': 'cpu', 'reversible_type': 'transpose', 'thresh': 0.01, 'n_em_iter': 100, 'n_lqa_iter': 10, 'n_features': 10}\r\n"
       ]
      },
      {
       "output_type": "stream",
       "stream": "stdout",
       "text": [
        "{'fusion_prior': 0.01, 'n_states': 10, 'platform': 'cpu', 'reversible_type': 'transpose', 'thresh': 0.01, 'n_em_iter': 100, 'n_lqa_iter': 10, 'n_features': 10}\r\n"
       ]
      },
      {
       "output_type": "stream",
       "stream": "stdout",
       "text": [
        "{'fusion_prior': 0.01, 'n_states': 4, 'platform': 'cpu', 'reversible_type': 'transpose', 'thresh': 0.01, 'n_em_iter': 100, 'n_lqa_iter': 10, 'n_features': 10}\r\n"
       ]
      },
      {
       "output_type": "stream",
       "stream": "stdout",
       "text": [
        "{'fusion_prior': 0.01, 'n_states': 5, 'platform': 'cpu', 'reversible_type': 'transpose', 'thresh': 0.01, 'n_em_iter': 100, 'n_lqa_iter': 10, 'n_features': 10}\r\n"
       ]
      },
      {
       "output_type": "stream",
       "stream": "stdout",
       "text": [
        "{'fusion_prior': 0.01, 'n_states': 10, 'platform': 'cpu', 'reversible_type': 'transpose', 'thresh': 0.01, 'n_em_iter': 100, 'n_lqa_iter': 10, 'n_features': 10}\r\n"
       ]
      },
      {
       "output_type": "stream",
       "stream": "stdout",
       "text": [
        "{'fusion_prior': 0.01, 'n_states': 4, 'platform': 'cpu', 'reversible_type': 'transpose', 'thresh': 0.01, 'n_em_iter': 100, 'n_lqa_iter': 10, 'n_features': 10}\r\n"
       ]
      },
      {
       "output_type": "stream",
       "stream": "stdout",
       "text": [
        "{'fusion_prior': 0.01, 'n_states': 5, 'platform': 'cpu', 'reversible_type': 'transpose', 'thresh': 0.01, 'n_em_iter': 100, 'n_lqa_iter': 10, 'n_features': 10}\r\n"
       ]
      },
      {
       "output_type": "stream",
       "stream": "stdout",
       "text": [
        "{'fusion_prior': 0.01, 'n_states': 10, 'platform': 'cpu', 'reversible_type': 'transpose', 'thresh': 0.01, 'n_em_iter': 100, 'n_lqa_iter': 10, 'n_features': 10}\r\n"
       ]
      }
     ],
     "prompt_number": 19
    },
    {
     "cell_type": "code",
     "collapsed": false,
     "input": [
      "!hmsm inspect -i hmms.jsonlines"
     ],
     "language": "python",
     "metadata": {},
     "outputs": [
      {
       "output_type": "stream",
       "stream": "stdout",
       "text": [
        "--------------------------------------------------------------------------------\r\n",
        "Overview\r\n",
        "--------------------------------------------------------------------------------\r\n",
        "train_lag_time\tn_states\ttimescales\r\n",
        "1\t4\t[1.6264981031417847, 1.2202632427215576, 0.6139125823974609]\r\n",
        "1\t5\t[1.7327795028686523, 1.649340033531189, 0.5823691487312317, 0.4606590270996094]\r\n",
        "2\t4\t[2.3638057708740234, 1.4562532901763916, 0.7022675275802612]\r\n",
        "2\t5\t[2.511733055114746, 1.7769776582717896, 0.7429591417312622, 0.4805504083633423]\r\n",
        "3\t4\t[2.959261894226074, 1.5919675827026367, 0.9658704996109009]\r\n",
        "3\t5\t[3.0895748138427734, 1.8923311233520508, 0.8832695484161377, nan]\r\n",
        "1\t4\t[1.6268999576568604, 1.2194966077804565, 0.6132128238677979]\r\n",
        "1\t5\t[1.7351584434509277, 1.6490743160247803, 0.5827788710594177, 0.46082907915115356]\r\n",
        "2\t4\t[2.3596301078796387, 1.4556083679199219, 0.7015823721885681]\r\n",
        "2\t5\t[2.511904239654541, 1.7766790390014648, 0.7433603405952454, 0.48111867904663086]\r\n",
        "3\t4\t[2.9625253677368164, 1.592699646949768, 0.9657549858093262]\r\n",
        "3\t5\t[3.080641508102417, 1.8924150466918945, 0.8840615749359131, nan]\r\n",
        "1\t4\t[1.6279518604278564, 1.2203505039215088, 0.6131646633148193]\r\n",
        "1\t5\t[1.7365291118621826, 1.6501562595367432, 0.5832509398460388, 0.4609642028808594]\r\n",
        "1\t10\t[8.195521354675293, 4.111052989959717, 1.726439356803894, 1.134652853012085, 0.7127545475959778, 0.4487340748310089, 0.3419203758239746, 0.24129299819469452, 0.20598803460597992]\r\n",
        "2\t4\t[2.3637173175811768, 1.4562034606933594, 0.7020492553710938]\r\n",
        "2\t5\t[2.5165820121765137, 1.7768504619598389, 0.7429722547531128, 0.4790651500225067]\r\n",
        "2\t10\t[10.427010536193848, 5.475915908813477, 1.8430410623550415, 1.3404940366744995, 0.8607760667800903, 0.4560959041118622, 0.280588299036026, nan, nan]\r\n",
        "3\t4\t[2.96421217918396, 1.592877745628357, 0.9659709930419922]\r\n",
        "3\t5\t[3.083256244659424, 1.8922977447509766, 0.8829928636550903, nan]\r\n",
        "3\t10\t[9.201937675476074, 4.815347194671631, 1.9323821067810059, 1.3625833988189697, 0.9518685340881348, 0.7283563017845154, nan, nan, nan]\r\n"
       ]
      }
     ],
     "prompt_number": 20
    },
    {
     "cell_type": "code",
     "collapsed": false,
     "input": [
      "# clean up\n",
      "import shutil\n",
      "os.chdir(os.environ['HOME'])\n",
      "shutil.rmtree(TEMPDIR)"
     ],
     "language": "python",
     "metadata": {},
     "outputs": [],
     "prompt_number": 24
    },
    {
     "cell_type": "code",
     "collapsed": false,
     "input": [],
     "language": "python",
     "metadata": {},
     "outputs": []
    }
   ],
   "metadata": {}
  }
 ]
}