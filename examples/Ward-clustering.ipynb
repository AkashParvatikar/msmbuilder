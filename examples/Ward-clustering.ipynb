{
 "cells": [
  {
   "cell_type": "markdown",
   "metadata": {},
   "source": [
    "# Ward clustering example"
   ]
  },
  {
   "cell_type": "markdown",
   "metadata": {},
   "source": [
    "Here we fit some random points to 2 clusters using the Ward metric and then predict their cluster assignments using the new prediction function. Due to the cardinality dependence of the Ward objective function, data points at the edges of clusters may be assigned to different clusters than the ones to which they were fit."
   ]
  },
  {
   "cell_type": "code",
   "execution_count": 3,
   "metadata": {
    "collapsed": false
   },
   "outputs": [
    {
     "name": "stdout",
     "output_type": "stream",
     "text": [
      "Populating the interactive namespace from numpy and matplotlib\n"
     ]
    }
   ],
   "source": [
    "from msmbuilder.cluster import LandmarkAgglomerative\n",
    "import numpy as np\n",
    "import matplotlib.pyplot as plt\n",
    "% pylab inline"
   ]
  },
  {
   "cell_type": "code",
   "execution_count": 4,
   "metadata": {
    "collapsed": true
   },
   "outputs": [],
   "source": [
    "# Generate some random data\n",
    "xy1 = np.random.randn(50,2)\n",
    "xy2 = np.random.randn(50,2)+1\n",
    "xy = np.concatenate([xy1,xy2])"
   ]
  },
  {
   "cell_type": "code",
   "execution_count": 5,
   "metadata": {
    "collapsed": true
   },
   "outputs": [],
   "source": [
    "# Cluster with Ward clustering\n",
    "clusterer = LandmarkAgglomerative(n_clusters=2, n_landmarks=None,\n",
    "                            linkage='ward', metric='euclidean')\n",
    "clusterer.fit([xy])\n",
    "fit_assignments = clusterer.landmark_labels_\n",
    "predict_assignments = clusterer.predict([xy])[0]"
   ]
  },
  {
   "cell_type": "code",
   "execution_count": 13,
   "metadata": {
    "collapsed": false
   },
   "outputs": [
    {
     "name": "stdout",
     "output_type": "stream",
     "text": [
      "Prediction maintains 93.0% fidelity to fit assignments.\n"
     ]
    }
   ],
   "source": [
    "# Investigate fit/predict fidelity\n",
    "count = 0\n",
    "discrep_list = []\n",
    "for i in range(xy.shape[0]):\n",
    "    if fit_assignments[i] == predict_assignments[i]:\n",
    "        count = count + 1\n",
    "    else:\n",
    "        discrep_list.append(i)\n",
    "print(\"Prediction maintains {}% fidelity to fit assignments.\" \\\n",
    "      .format(100*count/(xy.shape[0]+0.0)))"
   ]
  },
  {
   "cell_type": "code",
   "execution_count": 16,
   "metadata": {
    "collapsed": true
   },
   "outputs": [],
   "source": [
    "# Group fit and predict points by cluster assignments\n",
    "fit_0 = xy[fit_assignments == 0]\n",
    "fit_1 = xy[fit_assignments == 1]\n",
    "\n",
    "pred_0 = xy[predict_assignments == 0]\n",
    "pred_1 = xy[predict_assignments == 1]\n",
    "\n",
    "c_fit_list=np.empty(len(discrep_list))\n",
    "c_pred_list=np.empty(len(discrep_list))\n",
    "\n",
    "for i in range(len(discrep_list)):\n",
    "    c_fit_list[i] = fit_assignments[discrep_list[i]]\n",
    "    c_pred_list[i] = predict_assignments[discrep_list[i]]"
   ]
  },
  {
   "cell_type": "code",
   "execution_count": 22,
   "metadata": {
    "collapsed": false
   },
   "outputs": [
    {
     "data": {
      "text/plain": [
       "([<matplotlib.axis.YTick at 0x113e41e10>,\n",
       "  <matplotlib.axis.YTick at 0x113e418d0>,\n",
       "  <matplotlib.axis.YTick at 0x113e9c3d0>,\n",
       "  <matplotlib.axis.YTick at 0x113e9c990>],\n",
       " <a list of 4 Text yticklabel objects>)"
      ]
     },
     "execution_count": 22,
     "metadata": {},
     "output_type": "execute_result"
    },
    {
     "data": {
      "image/png": "[encoded data removed]",
      "text/plain": [
       "<matplotlib.figure.Figure at 0x10db6c210>"
      ]
     },
     "metadata": {},
     "output_type": "display_data"
    }
   ],
   "source": [
    "# Visualize clustering results and highlight discrepancies\n",
    "# between fit and predict\n",
    "fig = plt.figure(figsize=(10,5))\n",
    "\n",
    "plt.subplot(1,2,1, aspect='equal')\n",
    "plt.title('Fit assignments',fontsize=18)\n",
    "plt.scatter(fit_0[:,0],fit_0[:,1],c='b',s=40)\n",
    "plt.scatter(fit_1[:,0],fit_1[:,1],c='r',s=40)\n",
    "\n",
    "for i in range(len(discrep_list)):\n",
    "    if c_fit_list[i] == 0:\n",
    "        plt.scatter(xy[discrep_list[i],0], xy[discrep_list[i],1],\n",
    "                    c='b', s=300, marker=(5,1))\n",
    "    if c_fit_list[i] == 1:\n",
    "        plt.scatter(xy[discrep_list[i],0], xy[discrep_list[i],1],\n",
    "                    c='r', s=300, marker=(5,1))\n",
    "plt.xlim((-3,4))\n",
    "plt.ylim((-3,4))\n",
    "plt.xticks((-2,0,2,4), fontsize=16)\n",
    "plt.yticks((-2,0,2,4), fontsize=16)\n",
    "\n",
    "\n",
    "plt.subplot(1,2,2, aspect='equal')\n",
    "plt.title('Predicted assignments',fontsize=18)\n",
    "plt.scatter(pred_0[:,0],pred_0[:,1],c='b',s=40)\n",
    "plt.scatter(pred_1[:,0],pred_1[:,1],c='r',s=40)\n",
    "\n",
    "for i in range(len(discrep_list)):\n",
    "    if c_pred_list[i] == 0:\n",
    "        plt.scatter(xy[discrep_list[i],0], xy[discrep_list[i],1],\n",
    "                    c='b', s=300, marker=(5,1))\n",
    "    if c_pred_list[i] == 1:\n",
    "        plt.scatter(xy[discrep_list[i],0], xy[discrep_list[i],1],\n",
    "                    c='r', s=300, marker=(5,1))\n",
    "plt.xlim((-3,4))\n",
    "plt.ylim((-3,4))\n",
    "plt.xticks((-2,0,2,4), fontsize=16)\n",
    "plt.yticks((-2,0,2,4), fontsize=16)"
   ]
  },
  {
   "cell_type": "code",
   "execution_count": null,
   "metadata": {
    "collapsed": true
   },
   "outputs": [],
   "source": []
  }
 ],
 "metadata": {
  "kernelspec": {
   "display_name": "Python 2",
   "language": "python",
   "name": "python2"
  },
  "language_info": {
   "codemirror_mode": {
    "name": "ipython",
    "version": 2
   },
   "file_extension": ".py",
   "mimetype": "text/x-python",
   "name": "python",
   "nbconvert_exporter": "python",
   "pygments_lexer": "ipython2",
   "version": "2.7.11"
  }
 },
 "nbformat": 4,
 "nbformat_minor": 0
}
