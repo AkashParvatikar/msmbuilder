{
 "metadata": {
  "name": "",
  "signature": "sha256:e65c09b062da70faea48272473449652c6d02e121ff5e399c1fc77668a294d40"
 },
 "nbformat": 3,
 "nbformat_minor": 0,
 "worksheets": [
  {
   "cells": [
    {
     "cell_type": "code",
     "collapsed": false,
     "input": [
      "import numpy as np\n",
      "import matplotlib.pyplot as pp\n",
      "from mixtape.datasets import load_quadwell\n",
      "from mixtape.datasets import quadwell_eigs\n",
      "from mixtape.cluster import NDGrid\n",
      "from mixtape.markovstatemodel import MarkovStateModel\n",
      "from sklearn.pipeline import Pipeline\n",
      "from scikits import bootstrap"
     ],
     "language": "python",
     "metadata": {},
     "outputs": []
    },
    {
     "cell_type": "code",
     "collapsed": false,
     "input": [
      "dataset = load_quadwell(random_state=0)\n",
      "true_eigenvalues = quadwell_eigs(200)[0]\n",
      "true_timescales = -1 / np.log(true_eigenvalues[1:])\n",
      "help(load_quadwell)"
     ],
     "language": "python",
     "metadata": {},
     "outputs": []
    },
    {
     "cell_type": "code",
     "collapsed": false,
     "input": [
      "def msm_timescales(trajectories, n_states):\n",
      "    pipeline = Pipeline([\n",
      "        ('grid', NDGrid(min=-1.2, max=1.2)),\n",
      "        ('msm', MarkovStateModel(n_timescales=4, verbose=False))\n",
      "    ])\n",
      "    pipeline.set_params(grid__n_bins_per_feature=n_states)\n",
      "    pipeline.fit(trajectories)\n",
      "    return pipeline.named_steps['msm'].timescales_\n",
      "\n",
      "n_states = [5, 10, 25, 50, 100, 250]\n",
      "ts = np.array([msm_timescales(dataset.trajectories, n) for n in n_states])"
     ],
     "language": "python",
     "metadata": {},
     "outputs": []
    },
    {
     "cell_type": "code",
     "collapsed": false,
     "input": [
      "for i in range(3):\n",
      "    pp.plot(n_states, ts[:, i], 'x-')\n",
      "\n",
      "for i, ls in zip(range(3), ['k--', 'b--', 'r--']):\n",
      "    pp.plot(pp.xlim(), [true_timescales[i]]*2, ls, lw=2)   \n",
      "\n",
      "pp.xlabel('Number of states')\n",
      "pp.ylabel('Timescale (steps)')"
     ],
     "language": "python",
     "metadata": {},
     "outputs": []
    },
    {
     "cell_type": "code",
     "collapsed": false,
     "input": [
      "# TODO: make bootstrap plot\n",
      "bootstrap.ci(dataset.trajectories, lambda x: msm_timescales(x, 50), n_samples=100)"
     ],
     "language": "python",
     "metadata": {},
     "outputs": []
    },
    {
     "cell_type": "code",
     "collapsed": false,
     "input": [],
     "language": "python",
     "metadata": {},
     "outputs": []
    }
   ],
   "metadata": {}
  }
 ]
}