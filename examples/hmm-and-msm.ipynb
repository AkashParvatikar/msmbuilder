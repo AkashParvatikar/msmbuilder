{
 "metadata": {
  "name": "",
  "signature": "sha256:a5ada9ba32e909a6399831b8d5481f278a2e777ce7f6b9eda04e5017022cdda2"
 },
 "nbformat": 3,
 "nbformat_minor": 0,
 "worksheets": [
  {
   "cells": [
    {
     "cell_type": "markdown",
     "metadata": {},
     "source": [
      "This example builds HMM and MSMs on the alanine_dipeptide dataset using varing lag times\n",
      "and numbers of states, and compares the relaxation timescales\n"
     ]
    },
    {
     "cell_type": "code",
     "collapsed": false,
     "input": [
      "from __future__ import print_function\n",
      "import os\n",
      "from matplotlib.pyplot import *\n",
      "from mixtape.featurizer import SuperposeFeaturizer\n",
      "from mixtape.example_datasets import AlanineDipeptide"
     ],
     "language": "python",
     "metadata": {},
     "outputs": [],
     "prompt_number": 1
    },
    {
     "cell_type": "markdown",
     "metadata": {},
     "source": [
      "## First: load and \"featurize\"\n",
      "\n",
      "Featurization refers to the process of converting the conformational\n",
      "snapshots from your MD trajectories into vectors in some space $\\mathbb{R}^N$ that can be manipulated and modeled by subsequent analyses. The Gaussian HMM, for instance, uses Gaussian emission distributions, so it models the trajectory as a time-dependent\n",
      "mixture of multivariate Gaussians.\n",
      "\n",
      "In general, the featurization is somewhat of an art. For this example, we're using Mixtape's `SuperposeFeaturizer`, which superposes each snapshot onto a reference frame (`trjaectories[0][0]` in this example), and then measure the distance from each\n",
      "atom to its position in the reference conformation as the 'feature'"
     ]
    },
    {
     "cell_type": "code",
     "collapsed": false,
     "input": [
      "print(AlanineDipeptide.description())\n",
      "\n",
      "dataset = AlanineDipeptide().get()\n",
      "trajectories = dataset.trajectories\n",
      "topology = trajectories[0].topology\n",
      "\n",
      "indices = [atom.index for atom in topology.atoms if atom.element.symbol in ['C', 'O', 'N']]\n",
      "featurizer = SuperposeFeaturizer(indices, trajectories[0][0])\n",
      "sequences = featurizer.transform(trajectories)"
     ],
     "language": "python",
     "metadata": {},
     "outputs": [
      {
       "output_type": "stream",
       "stream": "stdout",
       "text": [
        "The dataset consists of ten 10ns trajectories of of alanine dipeptide,\n",
        "simulated using OpenMM 6.0.1 (CUDA platform, NVIDIA GTX660) with the\n",
        "AMBER99SB-ILDN force field at 300K (langevin dynamics, friction coefficient\n",
        "of 91/ps, timestep of 2fs) with GBSA implicit solvent. The coordinates are\n",
        "saved every 1ps. Each trajectory contains 9,999 snapshots.\n",
        "\n",
        "The dataset, including the script used to generate the dataset\n",
        "is available on figshare at\n",
        "\n",
        "http://dx.doi.org/10.6084/m9.figshare.1026131\n",
        "\n"
       ]
      }
     ],
     "prompt_number": 2
    },
    {
     "cell_type": "markdown",
     "metadata": {},
     "source": [
      "### Now `sequences` is our featurized data."
     ]
    },
    {
     "cell_type": "code",
     "collapsed": false,
     "input": [
      "from mixtape.hmm import GaussianFusionHMM\n",
      "lag_times = range(1, 50, 10)\n",
      "hmm_ts0 = {}\n",
      "hmm_ts1 = {}\n",
      "n_states = [4, 8]\n",
      "\n",
      "for n in n_states:\n",
      "    hmm_ts0[n] = []\n",
      "    hmm_ts1[n] = []\n",
      "    for lag_time in lag_times:\n",
      "        strided_data = [s[i::lag_time] for s in sequences for i in range(lag_time)]\n",
      "        hmm = GaussianFusionHMM(n_states=n, n_features=sequences[0].shape[1], n_init=1).fit(strided_data)\n",
      "        timescales = hmm.timescales_ * lag_time\n",
      "        hmm_ts0[n].append(timescales[0])\n",
      "        hmm_ts1[n].append(timescales[1])\n",
      "        print('n_states=%d\\tlag_time=%d\\ttimescales=%s' % (n, lag_time, timescales))\n",
      "    print()"
     ],
     "language": "python",
     "metadata": {},
     "outputs": [
      {
       "output_type": "stream",
       "stream": "stdout",
       "text": [
        "n_states=4\tlag_time=1\ttimescales=[ 56.2101059    2.26027513   1.65121353]\n"
       ]
      }
     ],
     "prompt_number": "*"
    },
    {
     "cell_type": "code",
     "collapsed": false,
     "input": [
      "figure(figsize=(14,3))\n",
      "\n",
      "for i, n in enumerate(n_states):\n",
      "    subplot(1,len(n_states),1+i)\n",
      "    plot(lag_times, hmm_ts0[n])\n",
      "    plot(lag_times, hmm_ts1[n])\n",
      "    if i == 0:\n",
      "        ylabel('Relaxation Timescale')\n",
      "    xlabel('Lag Time')\n",
      "    title('%d states' % n)\n",
      "\n",
      "show()"
     ],
     "language": "python",
     "metadata": {},
     "outputs": []
    },
    {
     "cell_type": "code",
     "collapsed": false,
     "input": [
      "from mixtape.cluster import KCenters\n",
      "from mixtape.msm import MarkovStateModel\n",
      "msmts0, msmts1 = {}, {}\n",
      "lag_times = range(1, 50, 10)\n",
      "n_states = [4, 8, 16, 32, 64]\n",
      "\n",
      "for n in n_states:\n",
      "    msmts0[n] = []\n",
      "    msmts1[n] = []\n",
      "    for lag_time in lag_times:\n",
      "        assignments = KCenters(n_clusters=n).fit_predict(sequences)\n",
      "        msm = MarkovStateModel(lag_time=lag_time, verbose=False).fit(assignments)\n",
      "        timescales = msm.timescales_\n",
      "        msmts0[n].append(timescales[0])\n",
      "        msmts1[n].append(timescales[1])\n",
      "        print('n_states=%d\\tlag_time=%d\\ttimescales=%s' % (n, lag_time, timescales[0:2]))\n",
      "    print()"
     ],
     "language": "python",
     "metadata": {},
     "outputs": [
      {
       "ename": "ValueError",
       "evalue": "ndarray is not C-contiguous",
       "output_type": "pyerr",
       "traceback": [
        "\u001b[0;31m---------------------------------------------------------------------------\u001b[0m\n\u001b[0;31mValueError\u001b[0m                                Traceback (most recent call last)",
        "\u001b[0;32m<ipython-input-6-257af5fde53a>\u001b[0m in \u001b[0;36m<module>\u001b[0;34m()\u001b[0m\n\u001b[1;32m     11\u001b[0m     \u001b[0;32mfor\u001b[0m \u001b[0mlag_time\u001b[0m \u001b[0;32min\u001b[0m \u001b[0mlag_times\u001b[0m\u001b[0;34m:\u001b[0m\u001b[0;34m\u001b[0m\u001b[0m\n\u001b[1;32m     12\u001b[0m         \u001b[0;32mprint\u001b[0m\u001b[0;34m(\u001b[0m\u001b[0mKCenters\u001b[0m\u001b[0;34m(\u001b[0m\u001b[0mn_clusters\u001b[0m\u001b[0;34m=\u001b[0m\u001b[0mn\u001b[0m\u001b[0;34m)\u001b[0m\u001b[0;34m.\u001b[0m\u001b[0m_concat\u001b[0m\u001b[0;34m(\u001b[0m\u001b[0msequences\u001b[0m\u001b[0;34m)\u001b[0m\u001b[0;34m.\u001b[0m\u001b[0mflags\u001b[0m\u001b[0;34m[\u001b[0m\u001b[0;34m'C_CONTIGUOUS'\u001b[0m\u001b[0;34m]\u001b[0m\u001b[0;34m)\u001b[0m\u001b[0;34m\u001b[0m\u001b[0m\n\u001b[0;32m---> 13\u001b[0;31m         \u001b[0massignments\u001b[0m \u001b[0;34m=\u001b[0m \u001b[0mKCenters\u001b[0m\u001b[0;34m(\u001b[0m\u001b[0mn_clusters\u001b[0m\u001b[0;34m=\u001b[0m\u001b[0mn\u001b[0m\u001b[0;34m)\u001b[0m\u001b[0;34m.\u001b[0m\u001b[0mfit_predict\u001b[0m\u001b[0;34m(\u001b[0m\u001b[0msequences\u001b[0m\u001b[0;34m)\u001b[0m\u001b[0;34m\u001b[0m\u001b[0m\n\u001b[0m\u001b[1;32m     14\u001b[0m         \u001b[0mmsm\u001b[0m \u001b[0;34m=\u001b[0m \u001b[0mMarkovStateModel\u001b[0m\u001b[0;34m(\u001b[0m\u001b[0mlag_time\u001b[0m\u001b[0;34m=\u001b[0m\u001b[0mlag_time\u001b[0m\u001b[0;34m,\u001b[0m \u001b[0mverbose\u001b[0m\u001b[0;34m=\u001b[0m\u001b[0mFalse\u001b[0m\u001b[0;34m)\u001b[0m\u001b[0;34m.\u001b[0m\u001b[0mfit\u001b[0m\u001b[0;34m(\u001b[0m\u001b[0massignments\u001b[0m\u001b[0;34m)\u001b[0m\u001b[0;34m\u001b[0m\u001b[0m\n\u001b[1;32m     15\u001b[0m         \u001b[0mtimescales\u001b[0m \u001b[0;34m=\u001b[0m \u001b[0mmsm\u001b[0m\u001b[0;34m.\u001b[0m\u001b[0mtimescales_\u001b[0m\u001b[0;34m\u001b[0m\u001b[0m\n",
        "\u001b[0;32m/Users/schwancr/anaconda/lib/python2.7/site-packages/mixtape-3.0.0_beta-py2.7-macosx-10.5-x86_64.egg/mixtape/cluster/__init__.pyc\u001b[0m in \u001b[0;36mfit_predict\u001b[0;34m(self, sequences, y)\u001b[0m\n\u001b[1;32m    144\u001b[0m         \u001b[0;32mif\u001b[0m \u001b[0mhasattr\u001b[0m\u001b[0;34m(\u001b[0m\u001b[0msuper\u001b[0m\u001b[0;34m(\u001b[0m\u001b[0mMultiSequenceClusterMixin\u001b[0m\u001b[0;34m,\u001b[0m \u001b[0mself\u001b[0m\u001b[0;34m)\u001b[0m\u001b[0;34m,\u001b[0m \u001b[0;34m'fit_predict'\u001b[0m\u001b[0;34m)\u001b[0m\u001b[0;34m:\u001b[0m\u001b[0;34m\u001b[0m\u001b[0m\n\u001b[1;32m    145\u001b[0m             \u001b[0mcheck_iter_of_sequences\u001b[0m\u001b[0;34m(\u001b[0m\u001b[0msequences\u001b[0m\u001b[0;34m,\u001b[0m \u001b[0mallow_trajectory\u001b[0m\u001b[0;34m=\u001b[0m\u001b[0mself\u001b[0m\u001b[0;34m.\u001b[0m\u001b[0m_allow_trajectory\u001b[0m\u001b[0;34m)\u001b[0m\u001b[0;34m\u001b[0m\u001b[0m\n\u001b[0;32m--> 146\u001b[0;31m             \u001b[0mlabels\u001b[0m \u001b[0;34m=\u001b[0m \u001b[0msuper\u001b[0m\u001b[0;34m(\u001b[0m\u001b[0mMultiSequenceClusterMixin\u001b[0m\u001b[0;34m,\u001b[0m \u001b[0mself\u001b[0m\u001b[0;34m)\u001b[0m\u001b[0;34m.\u001b[0m\u001b[0mfit_predict\u001b[0m\u001b[0;34m(\u001b[0m\u001b[0msequences\u001b[0m\u001b[0;34m)\u001b[0m\u001b[0;34m\u001b[0m\u001b[0m\n\u001b[0m\u001b[1;32m    147\u001b[0m         \u001b[0;32melse\u001b[0m\u001b[0;34m:\u001b[0m\u001b[0;34m\u001b[0m\u001b[0m\n\u001b[1;32m    148\u001b[0m             \u001b[0mself\u001b[0m\u001b[0;34m.\u001b[0m\u001b[0mfit\u001b[0m\u001b[0;34m(\u001b[0m\u001b[0msequences\u001b[0m\u001b[0;34m)\u001b[0m\u001b[0;34m\u001b[0m\u001b[0m\n",
        "\u001b[0;32m/Users/schwancr/anaconda/lib/python2.7/site-packages/mixtape-3.0.0_beta-py2.7-macosx-10.5-x86_64.egg/mixtape/cluster/kcenters.pyc\u001b[0m in \u001b[0;36mfit_predict\u001b[0;34m(self, X, y)\u001b[0m\n\u001b[1;32m    118\u001b[0m \u001b[0;34m\u001b[0m\u001b[0m\n\u001b[1;32m    119\u001b[0m     \u001b[0;32mdef\u001b[0m \u001b[0mfit_predict\u001b[0m\u001b[0;34m(\u001b[0m\u001b[0mself\u001b[0m\u001b[0;34m,\u001b[0m \u001b[0mX\u001b[0m\u001b[0;34m,\u001b[0m \u001b[0my\u001b[0m\u001b[0;34m=\u001b[0m\u001b[0mNone\u001b[0m\u001b[0;34m)\u001b[0m\u001b[0;34m:\u001b[0m\u001b[0;34m\u001b[0m\u001b[0m\n\u001b[0;32m--> 120\u001b[0;31m         \u001b[0;32mreturn\u001b[0m \u001b[0mself\u001b[0m\u001b[0;34m.\u001b[0m\u001b[0mfit\u001b[0m\u001b[0;34m(\u001b[0m\u001b[0mX\u001b[0m\u001b[0;34m,\u001b[0m \u001b[0my\u001b[0m\u001b[0;34m)\u001b[0m\u001b[0;34m.\u001b[0m\u001b[0mlabels_\u001b[0m\u001b[0;34m\u001b[0m\u001b[0m\n\u001b[0m\u001b[1;32m    121\u001b[0m \u001b[0;34m\u001b[0m\u001b[0m\n\u001b[1;32m    122\u001b[0m \u001b[0;34m\u001b[0m\u001b[0m\n",
        "\u001b[0;32m/Users/schwancr/anaconda/lib/python2.7/site-packages/mixtape-3.0.0_beta-py2.7-macosx-10.5-x86_64.egg/mixtape/cluster/kcenters.pyc\u001b[0m in \u001b[0;36mfit\u001b[0;34m(self, sequences, y)\u001b[0m\n\u001b[1;32m    156\u001b[0m         \u001b[0mself\u001b[0m\u001b[0;34m\u001b[0m\u001b[0m\n\u001b[1;32m    157\u001b[0m         \"\"\"\n\u001b[0;32m--> 158\u001b[0;31m         \u001b[0mMultiSequenceClusterMixin\u001b[0m\u001b[0;34m.\u001b[0m\u001b[0mfit\u001b[0m\u001b[0;34m(\u001b[0m\u001b[0mself\u001b[0m\u001b[0;34m,\u001b[0m \u001b[0msequences\u001b[0m\u001b[0;34m)\u001b[0m\u001b[0;34m\u001b[0m\u001b[0m\n\u001b[0m\u001b[1;32m    159\u001b[0m         \u001b[0mself\u001b[0m\u001b[0;34m.\u001b[0m\u001b[0mdistances_\u001b[0m \u001b[0;34m=\u001b[0m \u001b[0mself\u001b[0m\u001b[0;34m.\u001b[0m\u001b[0m_split\u001b[0m\u001b[0;34m(\u001b[0m\u001b[0mself\u001b[0m\u001b[0;34m.\u001b[0m\u001b[0mdistances_\u001b[0m\u001b[0;34m)\u001b[0m\u001b[0;34m\u001b[0m\u001b[0m\n\u001b[1;32m    160\u001b[0m         \u001b[0;32mreturn\u001b[0m \u001b[0mself\u001b[0m\u001b[0;34m\u001b[0m\u001b[0m\n",
        "\u001b[0;32m/Users/schwancr/anaconda/lib/python2.7/site-packages/mixtape-3.0.0_beta-py2.7-macosx-10.5-x86_64.egg/mixtape/cluster/__init__.pyc\u001b[0m in \u001b[0;36mfit\u001b[0;34m(self, sequences, y)\u001b[0m\n\u001b[1;32m     71\u001b[0m         \"\"\"\n\u001b[1;32m     72\u001b[0m         \u001b[0mcheck_iter_of_sequences\u001b[0m\u001b[0;34m(\u001b[0m\u001b[0msequences\u001b[0m\u001b[0;34m,\u001b[0m \u001b[0mallow_trajectory\u001b[0m\u001b[0;34m=\u001b[0m\u001b[0mself\u001b[0m\u001b[0;34m.\u001b[0m\u001b[0m_allow_trajectory\u001b[0m\u001b[0;34m)\u001b[0m\u001b[0;34m\u001b[0m\u001b[0m\n\u001b[0;32m---> 73\u001b[0;31m         \u001b[0msuper\u001b[0m\u001b[0;34m(\u001b[0m\u001b[0mMultiSequenceClusterMixin\u001b[0m\u001b[0;34m,\u001b[0m \u001b[0mself\u001b[0m\u001b[0;34m)\u001b[0m\u001b[0;34m.\u001b[0m\u001b[0mfit\u001b[0m\u001b[0;34m(\u001b[0m\u001b[0mself\u001b[0m\u001b[0;34m.\u001b[0m\u001b[0m_concat\u001b[0m\u001b[0;34m(\u001b[0m\u001b[0msequences\u001b[0m\u001b[0;34m)\u001b[0m\u001b[0;34m)\u001b[0m\u001b[0;34m\u001b[0m\u001b[0m\n\u001b[0m\u001b[1;32m     74\u001b[0m \u001b[0;34m\u001b[0m\u001b[0m\n\u001b[1;32m     75\u001b[0m         \u001b[0;32mif\u001b[0m \u001b[0mhasattr\u001b[0m\u001b[0;34m(\u001b[0m\u001b[0mself\u001b[0m\u001b[0;34m,\u001b[0m \u001b[0;34m'labels_'\u001b[0m\u001b[0;34m)\u001b[0m\u001b[0;34m:\u001b[0m\u001b[0;34m\u001b[0m\u001b[0m\n",
        "\u001b[0;32m/Users/schwancr/anaconda/lib/python2.7/site-packages/mixtape-3.0.0_beta-py2.7-macosx-10.5-x86_64.egg/mixtape/cluster/kcenters.pyc\u001b[0m in \u001b[0;36mfit\u001b[0;34m(self, X, y)\u001b[0m\n\u001b[1;32m     84\u001b[0m \u001b[0;34m\u001b[0m\u001b[0m\n\u001b[1;32m     85\u001b[0m         \u001b[0;32mfor\u001b[0m \u001b[0mi\u001b[0m \u001b[0;32min\u001b[0m \u001b[0mrange\u001b[0m\u001b[0;34m(\u001b[0m\u001b[0mself\u001b[0m\u001b[0;34m.\u001b[0m\u001b[0mn_clusters\u001b[0m\u001b[0;34m)\u001b[0m\u001b[0;34m:\u001b[0m\u001b[0;34m\u001b[0m\u001b[0m\n\u001b[0;32m---> 86\u001b[0;31m             \u001b[0md\u001b[0m \u001b[0;34m=\u001b[0m \u001b[0mlibdistance\u001b[0m\u001b[0;34m.\u001b[0m\u001b[0mdist\u001b[0m\u001b[0;34m(\u001b[0m\u001b[0mX\u001b[0m\u001b[0;34m,\u001b[0m \u001b[0mX\u001b[0m\u001b[0;34m[\u001b[0m\u001b[0mnew_center_index\u001b[0m\u001b[0;34m]\u001b[0m\u001b[0;34m,\u001b[0m \u001b[0mmetric\u001b[0m\u001b[0;34m=\u001b[0m\u001b[0mself\u001b[0m\u001b[0;34m.\u001b[0m\u001b[0mmetric\u001b[0m\u001b[0;34m)\u001b[0m\u001b[0;34m\u001b[0m\u001b[0m\n\u001b[0m\u001b[1;32m     87\u001b[0m             \u001b[0mmask\u001b[0m \u001b[0;34m=\u001b[0m \u001b[0;34m(\u001b[0m\u001b[0md\u001b[0m \u001b[0;34m<\u001b[0m \u001b[0mself\u001b[0m\u001b[0;34m.\u001b[0m\u001b[0mdistances_\u001b[0m\u001b[0;34m)\u001b[0m\u001b[0;34m\u001b[0m\u001b[0m\n\u001b[1;32m     88\u001b[0m             \u001b[0mself\u001b[0m\u001b[0;34m.\u001b[0m\u001b[0mdistances_\u001b[0m\u001b[0;34m[\u001b[0m\u001b[0mmask\u001b[0m\u001b[0;34m]\u001b[0m \u001b[0;34m=\u001b[0m \u001b[0md\u001b[0m\u001b[0;34m[\u001b[0m\u001b[0mmask\u001b[0m\u001b[0;34m]\u001b[0m\u001b[0;34m\u001b[0m\u001b[0m\n",
        "\u001b[0;32m/Users/schwancr/anaconda/lib/python2.7/site-packages/mixtape-3.0.0_beta-py2.7-macosx-10.5-x86_64.egg/mixtape/libdistance.so\u001b[0m in \u001b[0;36mmixtape.libdistance.dist (Mixtape/libdistance/libdistance.cpp:3847)\u001b[0;34m()\u001b[0m\n",
        "\u001b[0;32m/Users/schwancr/anaconda/lib/python2.7/site-packages/mixtape-3.0.0_beta-py2.7-macosx-10.5-x86_64.egg/mixtape/libdistance.so\u001b[0m in \u001b[0;36mView.MemoryView.memoryview_cwrapper (Mixtape/libdistance/libdistance.cpp:16500)\u001b[0;34m()\u001b[0m\n",
        "\u001b[0;32m/Users/schwancr/anaconda/lib/python2.7/site-packages/mixtape-3.0.0_beta-py2.7-macosx-10.5-x86_64.egg/mixtape/libdistance.so\u001b[0m in \u001b[0;36mView.MemoryView.memoryview.__cinit__ (Mixtape/libdistance/libdistance.cpp:13052)\u001b[0;34m()\u001b[0m\n",
        "\u001b[0;31mValueError\u001b[0m: ndarray is not C-contiguous"
       ]
      },
      {
       "output_type": "stream",
       "stream": "stdout",
       "text": [
        "False\n"
       ]
      }
     ],
     "prompt_number": 6
    },
    {
     "cell_type": "code",
     "collapsed": false,
     "input": [
      "figure(figsize=(14,3))\n",
      "\n",
      "for i, n in enumerate(n_states):\n",
      "    subplot(1,len(n_states),1+i)\n",
      "    plot(lag_times, msmts0[n])\n",
      "    plot(lag_times, msmts1[n])\n",
      "    if i == 0:\n",
      "        ylabel('Relaxation Timescale')\n",
      "    xlabel('Lag Time')\n",
      "    title('%d states' % n)\n",
      "\n",
      "show()"
     ],
     "language": "python",
     "metadata": {},
     "outputs": []
    },
    {
     "cell_type": "code",
     "collapsed": false,
     "input": [],
     "language": "python",
     "metadata": {},
     "outputs": []
    }
   ],
   "metadata": {}
  }
 ]
}