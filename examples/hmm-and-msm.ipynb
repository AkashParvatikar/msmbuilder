{
 "metadata": {
  "name": "",
  "signature": "sha256:c6ef492b28a031a6a37383f55d378bf09ed1f5fad209960e4259cbb2684df1bf"
 },
 "nbformat": 3,
 "nbformat_minor": 0,
 "worksheets": [
  {
   "cells": [
    {
     "cell_type": "markdown",
     "metadata": {},
     "source": [
      "This example builds HMM and MSMs on the alanine_dipeptide dataset using varing lag times\n",
      "and numbers of states, and compares the relaxation timescales\n"
     ]
    },
    {
     "cell_type": "code",
     "collapsed": false,
     "input": [
      "from __future__ import print_function\n",
      "import os\n",
      "from matplotlib.pyplot import *\n",
      "from mixtape.featurizer import SuperposeFeaturizer\n",
      "from mixtape.datasets import fetch_alanine_dipeptide\n",
      "%matplotlib inline"
     ],
     "language": "python",
     "metadata": {},
     "outputs": []
    },
    {
     "cell_type": "code",
     "collapsed": false,
     "input": [
      "dataset = fetch_alanine_dipeptide()\n",
      "trajectories = dataset.trajectories\n",
      "topology = trajectories[0].topology\n",
      "\n",
      "indices = [atom.index for atom in topology.atoms if atom.element.symbol in ['C', 'O', 'N']]\n",
      "featurizer = SuperposeFeaturizer(indices, trajectories[0][0])\n",
      "sequences = featurizer.transform(trajectories)"
     ],
     "language": "python",
     "metadata": {},
     "outputs": []
    },
    {
     "cell_type": "code",
     "collapsed": false,
     "input": [
      "print(len(sequences))\n",
      "print([s.shape for s in sequences])"
     ],
     "language": "python",
     "metadata": {},
     "outputs": []
    },
    {
     "cell_type": "code",
     "collapsed": false,
     "input": [
      "from mixtape.ghmm import GaussianFusionHMM\n",
      "lag_times = range(1, 50, 10)\n",
      "hmm_ts0 = {}\n",
      "hmm_ts1 = {}\n",
      "n_states = [4, 8]\n",
      "\n",
      "for n in n_states:\n",
      "    hmm_ts0[n] = []\n",
      "    hmm_ts1[n] = []\n",
      "    for lag_time in lag_times:\n",
      "        strided_data = [s[i::lag_time] for s in sequences for i in range(lag_time)]\n",
      "        hmm = GaussianFusionHMM(n_states=n, n_features=sequences[0].shape[1], n_init=1).fit(strided_data)\n",
      "        timescales = hmm.timescales_ * lag_time\n",
      "        hmm_ts0[n].append(timescales[0])\n",
      "        hmm_ts1[n].append(timescales[1])\n",
      "        print('n_states=%d\\tlag_time=%d\\ttimescales=%s' % (n, lag_time, timescales))\n",
      "    print()"
     ],
     "language": "python",
     "metadata": {},
     "outputs": []
    },
    {
     "cell_type": "code",
     "collapsed": false,
     "input": [
      "figure(figsize=(14,3))\n",
      "\n",
      "for i, n in enumerate(n_states):\n",
      "    subplot(1,len(n_states),1+i)\n",
      "    plot(lag_times, hmm_ts0[n])\n",
      "    plot(lag_times, hmm_ts1[n])\n",
      "    if i == 0:\n",
      "        ylabel('Relaxation Timescale')\n",
      "    xlabel('Lag Time')\n",
      "    title('%d states' % n)\n",
      "\n",
      "show()"
     ],
     "language": "python",
     "metadata": {},
     "outputs": []
    },
    {
     "cell_type": "code",
     "collapsed": false,
     "input": [
      "from mixtape.cluster import KCenters\n",
      "from mixtape.markovstatemodel import MarkovStateModel\n",
      "msmts0, msmts1 = {}, {}\n",
      "lag_times = range(1, 50, 10)\n",
      "n_states = [4, 8, 16, 32, 64]\n",
      "\n",
      "\n",
      "for n in n_states:\n",
      "    msmts0[n] = []\n",
      "    msmts1[n] = []\n",
      "    for lag_time in lag_times:\n",
      "        assignments = KCenters(n_clusters=n).fit_predict(sequences)\n",
      "        msm = MarkovStateModel(lag_time=lag_time, verbose=False).fit(assignments)\n",
      "        timescales = msm.timescales_\n",
      "        msmts0[n].append(timescales[0])\n",
      "        msmts1[n].append(timescales[1])\n",
      "        print('n_states=%d\\tlag_time=%d\\ttimescales=%s' % (n, lag_time, timescales[0:2]))\n",
      "    print()"
     ],
     "language": "python",
     "metadata": {},
     "outputs": []
    },
    {
     "cell_type": "code",
     "collapsed": false,
     "input": [
      "figure(figsize=(14,3))\n",
      "\n",
      "for i, n in enumerate(n_states):\n",
      "    subplot(1,len(n_states),1+i)\n",
      "    plot(lag_times, msmts0[n])\n",
      "    plot(lag_times, msmts1[n])\n",
      "    if i == 0:\n",
      "        ylabel('Relaxation Timescale')\n",
      "    xlabel('Lag Time')\n",
      "    title('%d states' % n)\n",
      "\n",
      "show()"
     ],
     "language": "python",
     "metadata": {},
     "outputs": []
    },
    {
     "cell_type": "code",
     "collapsed": false,
     "input": [],
     "language": "python",
     "metadata": {},
     "outputs": []
    }
   ],
   "metadata": {}
  }
 ]
}